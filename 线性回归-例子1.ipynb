{
 "cells": [
  {
   "cell_type": "code",
   "execution_count": 1,
   "metadata": {},
   "outputs": [
    {
     "name": "stdout",
     "output_type": "stream",
     "text": [
      "[1.02885714 1.47733333]\n",
      " \n",
      "1.029 x + 1.477\n"
     ]
    }
   ],
   "source": [
    "import numpy as np\n",
    "#原始数据\n",
    "X=[ 1 ,2  ,3 ,4 ,5 ,6]\n",
    "Y=[ 2.6 ,3.4 ,4.7 ,5.5 ,6.47 ,7.8]\n",
    " \n",
    "#用一次多项式拟合，相当于线性拟合\n",
    "z1 = np.polyfit(X, Y, 1)\n",
    "p1 = np.poly1d(z1)\n",
    "print (z1)  #[ 1.          1.49333333]\n",
    "print (p1)  # 1 x + 1.493"
   ]
  },
  {
   "cell_type": "code",
   "execution_count": 3,
   "metadata": {},
   "outputs": [
    {
     "data": {
      "image/png": "[encoded data removed]",
      "text/plain": [
       "<matplotlib.figure.Figure at 0x26a4a9c1eb8>"
      ]
     },
     "metadata": {},
     "output_type": "display_data"
    }
   ],
   "source": [
    "#作图显示\n",
    "import matplotlib.pyplot as plt\n",
    "import numpy as np\n",
    " \n",
    "x = np.arange(1,7)\n",
    "y = z1[0] * x + z1[1]\n",
    "plt.figure()\n",
    "plt.scatter(X, Y)\n",
    "plt.plot(x, y)\n",
    "plt.show()"
   ]
  },
  {
   "cell_type": "code",
   "execution_count": null,
   "metadata": {},
   "outputs": [],
   "source": []
  }
 ],
 "metadata": {
  "kernelspec": {
   "display_name": "Python 3",
   "language": "python",
   "name": "python3"
  },
  "language_info": {
   "codemirror_mode": {
    "name": "ipython",
    "version": 3
   },
   "file_extension": ".py",
   "mimetype": "text/x-python",
   "name": "python",
   "nbconvert_exporter": "python",
   "pygments_lexer": "ipython3",
   "version": "3.6.4"
  }
 },
 "nbformat": 4,
 "nbformat_minor": 2
}
